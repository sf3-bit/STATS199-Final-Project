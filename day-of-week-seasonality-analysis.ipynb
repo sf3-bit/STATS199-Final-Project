{
 "cells": [
  {
   "cell_type": "markdown",
   "metadata": {},
   "source": [
    "Gather data"
   ]
  },
  {
   "cell_type": "code",
   "execution_count": 1,
   "metadata": {},
   "outputs": [],
   "source": [
    "import pandas as pd"
   ]
  },
  {
   "cell_type": "code",
   "execution_count": 2,
   "metadata": {},
   "outputs": [
    {
     "data": {
      "text/html": [
       "<div>\n",
       "<style scoped>\n",
       "    .dataframe tbody tr th:only-of-type {\n",
       "        vertical-align: middle;\n",
       "    }\n",
       "\n",
       "    .dataframe tbody tr th {\n",
       "        vertical-align: top;\n",
       "    }\n",
       "\n",
       "    .dataframe thead th {\n",
       "        text-align: right;\n",
       "    }\n",
       "</style>\n",
       "<table border=\"1\" class=\"dataframe\">\n",
       "  <thead>\n",
       "    <tr style=\"text-align: right;\">\n",
       "      <th></th>\n",
       "      <th>timestamp</th>\n",
       "      <th>bitcoin</th>\n",
       "      <th>ethereum</th>\n",
       "      <th>ripple</th>\n",
       "      <th>solana</th>\n",
       "      <th>binancecoin</th>\n",
       "      <th>dogecoin</th>\n",
       "      <th>cardano</th>\n",
       "      <th>staked-ether</th>\n",
       "      <th>tron</th>\n",
       "      <th>...</th>\n",
       "      <th>render-token</th>\n",
       "      <th>bittensor</th>\n",
       "      <th>kaspa</th>\n",
       "      <th>filecoin</th>\n",
       "      <th>fetch-ai</th>\n",
       "      <th>arbitrum</th>\n",
       "      <th>virtual-protocol</th>\n",
       "      <th>gatechain-token</th>\n",
       "      <th>cosmos</th>\n",
       "      <th>ethena</th>\n",
       "    </tr>\n",
       "  </thead>\n",
       "  <tbody>\n",
       "    <tr>\n",
       "      <th>0</th>\n",
       "      <td>2020-01-02 00:00:00.000</td>\n",
       "      <td>7193.754668</td>\n",
       "      <td>130.484685</td>\n",
       "      <td>0.192556</td>\n",
       "      <td>NaN</td>\n",
       "      <td>13.685902</td>\n",
       "      <td>0.002026</td>\n",
       "      <td>0.033362</td>\n",
       "      <td>NaN</td>\n",
       "      <td>0.013199</td>\n",
       "      <td>...</td>\n",
       "      <td>NaN</td>\n",
       "      <td>NaN</td>\n",
       "      <td>NaN</td>\n",
       "      <td>NaN</td>\n",
       "      <td>0.038686</td>\n",
       "      <td>NaN</td>\n",
       "      <td>NaN</td>\n",
       "      <td>0.353788</td>\n",
       "      <td>4.381528</td>\n",
       "      <td>NaN</td>\n",
       "    </tr>\n",
       "    <tr>\n",
       "      <th>1</th>\n",
       "      <td>2020-01-03 00:00:00.000</td>\n",
       "      <td>6963.853354</td>\n",
       "      <td>127.045258</td>\n",
       "      <td>0.187433</td>\n",
       "      <td>NaN</td>\n",
       "      <td>13.007171</td>\n",
       "      <td>0.002008</td>\n",
       "      <td>0.032618</td>\n",
       "      <td>NaN</td>\n",
       "      <td>0.012845</td>\n",
       "      <td>...</td>\n",
       "      <td>NaN</td>\n",
       "      <td>NaN</td>\n",
       "      <td>NaN</td>\n",
       "      <td>NaN</td>\n",
       "      <td>0.036687</td>\n",
       "      <td>NaN</td>\n",
       "      <td>NaN</td>\n",
       "      <td>0.343728</td>\n",
       "      <td>4.098819</td>\n",
       "      <td>NaN</td>\n",
       "    </tr>\n",
       "    <tr>\n",
       "      <th>2</th>\n",
       "      <td>2020-01-04 00:00:00.000</td>\n",
       "      <td>7300.346935</td>\n",
       "      <td>133.702649</td>\n",
       "      <td>0.192299</td>\n",
       "      <td>NaN</td>\n",
       "      <td>13.603276</td>\n",
       "      <td>0.002049</td>\n",
       "      <td>0.033967</td>\n",
       "      <td>NaN</td>\n",
       "      <td>0.013371</td>\n",
       "      <td>...</td>\n",
       "      <td>NaN</td>\n",
       "      <td>NaN</td>\n",
       "      <td>NaN</td>\n",
       "      <td>NaN</td>\n",
       "      <td>0.038930</td>\n",
       "      <td>NaN</td>\n",
       "      <td>NaN</td>\n",
       "      <td>0.353166</td>\n",
       "      <td>4.227682</td>\n",
       "      <td>NaN</td>\n",
       "    </tr>\n",
       "    <tr>\n",
       "      <th>3</th>\n",
       "      <td>2020-01-05 00:00:00.000</td>\n",
       "      <td>7351.377053</td>\n",
       "      <td>134.136883</td>\n",
       "      <td>0.192812</td>\n",
       "      <td>NaN</td>\n",
       "      <td>13.794575</td>\n",
       "      <td>0.002189</td>\n",
       "      <td>0.034298</td>\n",
       "      <td>NaN</td>\n",
       "      <td>0.013438</td>\n",
       "      <td>...</td>\n",
       "      <td>NaN</td>\n",
       "      <td>NaN</td>\n",
       "      <td>NaN</td>\n",
       "      <td>NaN</td>\n",
       "      <td>0.040255</td>\n",
       "      <td>NaN</td>\n",
       "      <td>NaN</td>\n",
       "      <td>0.354280</td>\n",
       "      <td>4.253197</td>\n",
       "      <td>NaN</td>\n",
       "    </tr>\n",
       "    <tr>\n",
       "      <th>4</th>\n",
       "      <td>2020-01-06 00:00:00.000</td>\n",
       "      <td>7349.972248</td>\n",
       "      <td>135.005714</td>\n",
       "      <td>0.193816</td>\n",
       "      <td>NaN</td>\n",
       "      <td>14.006361</td>\n",
       "      <td>0.002070</td>\n",
       "      <td>0.034427</td>\n",
       "      <td>NaN</td>\n",
       "      <td>0.013512</td>\n",
       "      <td>...</td>\n",
       "      <td>NaN</td>\n",
       "      <td>NaN</td>\n",
       "      <td>NaN</td>\n",
       "      <td>NaN</td>\n",
       "      <td>0.038340</td>\n",
       "      <td>NaN</td>\n",
       "      <td>NaN</td>\n",
       "      <td>0.386061</td>\n",
       "      <td>4.199192</td>\n",
       "      <td>NaN</td>\n",
       "    </tr>\n",
       "  </tbody>\n",
       "</table>\n",
       "<p>5 rows × 50 columns</p>\n",
       "</div>"
      ],
      "text/plain": [
       "                 timestamp      bitcoin    ethereum    ripple  solana  \\\n",
       "0  2020-01-02 00:00:00.000  7193.754668  130.484685  0.192556     NaN   \n",
       "1  2020-01-03 00:00:00.000  6963.853354  127.045258  0.187433     NaN   \n",
       "2  2020-01-04 00:00:00.000  7300.346935  133.702649  0.192299     NaN   \n",
       "3  2020-01-05 00:00:00.000  7351.377053  134.136883  0.192812     NaN   \n",
       "4  2020-01-06 00:00:00.000  7349.972248  135.005714  0.193816     NaN   \n",
       "\n",
       "   binancecoin  dogecoin   cardano  staked-ether      tron  ...  render-token  \\\n",
       "0    13.685902  0.002026  0.033362           NaN  0.013199  ...           NaN   \n",
       "1    13.007171  0.002008  0.032618           NaN  0.012845  ...           NaN   \n",
       "2    13.603276  0.002049  0.033967           NaN  0.013371  ...           NaN   \n",
       "3    13.794575  0.002189  0.034298           NaN  0.013438  ...           NaN   \n",
       "4    14.006361  0.002070  0.034427           NaN  0.013512  ...           NaN   \n",
       "\n",
       "   bittensor  kaspa  filecoin  fetch-ai  arbitrum  virtual-protocol  \\\n",
       "0        NaN    NaN       NaN  0.038686       NaN               NaN   \n",
       "1        NaN    NaN       NaN  0.036687       NaN               NaN   \n",
       "2        NaN    NaN       NaN  0.038930       NaN               NaN   \n",
       "3        NaN    NaN       NaN  0.040255       NaN               NaN   \n",
       "4        NaN    NaN       NaN  0.038340       NaN               NaN   \n",
       "\n",
       "   gatechain-token    cosmos  ethena  \n",
       "0         0.353788  4.381528     NaN  \n",
       "1         0.343728  4.098819     NaN  \n",
       "2         0.353166  4.227682     NaN  \n",
       "3         0.354280  4.253197     NaN  \n",
       "4         0.386061  4.199192     NaN  \n",
       "\n",
       "[5 rows x 50 columns]"
      ]
     },
     "execution_count": 2,
     "metadata": {},
     "output_type": "execute_result"
    }
   ],
   "source": [
    "# get price data\n",
    "df = pd.read_csv(\"price-data.csv\")\n",
    "df.head()"
   ]
  },
  {
   "cell_type": "markdown",
   "metadata": {},
   "source": [
    "Compute daily log returns from daily price data"
   ]
  },
  {
   "cell_type": "code",
   "execution_count": 3,
   "metadata": {},
   "outputs": [],
   "source": [
    "import numpy as np"
   ]
  },
  {
   "cell_type": "code",
   "execution_count": 4,
   "metadata": {},
   "outputs": [
    {
     "data": {
      "text/html": [
       "<div>\n",
       "<style scoped>\n",
       "    .dataframe tbody tr th:only-of-type {\n",
       "        vertical-align: middle;\n",
       "    }\n",
       "\n",
       "    .dataframe tbody tr th {\n",
       "        vertical-align: top;\n",
       "    }\n",
       "\n",
       "    .dataframe thead th {\n",
       "        text-align: right;\n",
       "    }\n",
       "</style>\n",
       "<table border=\"1\" class=\"dataframe\">\n",
       "  <thead>\n",
       "    <tr style=\"text-align: right;\">\n",
       "      <th></th>\n",
       "      <th>bitcoin</th>\n",
       "      <th>ethereum</th>\n",
       "      <th>ripple</th>\n",
       "      <th>solana</th>\n",
       "      <th>binancecoin</th>\n",
       "      <th>dogecoin</th>\n",
       "      <th>cardano</th>\n",
       "      <th>staked-ether</th>\n",
       "      <th>tron</th>\n",
       "      <th>chainlink</th>\n",
       "      <th>...</th>\n",
       "      <th>render-token</th>\n",
       "      <th>bittensor</th>\n",
       "      <th>kaspa</th>\n",
       "      <th>filecoin</th>\n",
       "      <th>fetch-ai</th>\n",
       "      <th>arbitrum</th>\n",
       "      <th>virtual-protocol</th>\n",
       "      <th>gatechain-token</th>\n",
       "      <th>cosmos</th>\n",
       "      <th>ethena</th>\n",
       "    </tr>\n",
       "    <tr>\n",
       "      <th>timestamp</th>\n",
       "      <th></th>\n",
       "      <th></th>\n",
       "      <th></th>\n",
       "      <th></th>\n",
       "      <th></th>\n",
       "      <th></th>\n",
       "      <th></th>\n",
       "      <th></th>\n",
       "      <th></th>\n",
       "      <th></th>\n",
       "      <th></th>\n",
       "      <th></th>\n",
       "      <th></th>\n",
       "      <th></th>\n",
       "      <th></th>\n",
       "      <th></th>\n",
       "      <th></th>\n",
       "      <th></th>\n",
       "      <th></th>\n",
       "      <th></th>\n",
       "      <th></th>\n",
       "    </tr>\n",
       "  </thead>\n",
       "  <tbody>\n",
       "    <tr>\n",
       "      <th>2020-01-02 00:00:00.000</th>\n",
       "      <td>NaN</td>\n",
       "      <td>NaN</td>\n",
       "      <td>NaN</td>\n",
       "      <td>NaN</td>\n",
       "      <td>NaN</td>\n",
       "      <td>NaN</td>\n",
       "      <td>NaN</td>\n",
       "      <td>NaN</td>\n",
       "      <td>NaN</td>\n",
       "      <td>NaN</td>\n",
       "      <td>...</td>\n",
       "      <td>NaN</td>\n",
       "      <td>NaN</td>\n",
       "      <td>NaN</td>\n",
       "      <td>NaN</td>\n",
       "      <td>NaN</td>\n",
       "      <td>NaN</td>\n",
       "      <td>NaN</td>\n",
       "      <td>NaN</td>\n",
       "      <td>NaN</td>\n",
       "      <td>NaN</td>\n",
       "    </tr>\n",
       "    <tr>\n",
       "      <th>2020-01-03 00:00:00.000</th>\n",
       "      <td>-0.032480</td>\n",
       "      <td>-0.026712</td>\n",
       "      <td>-0.026961</td>\n",
       "      <td>NaN</td>\n",
       "      <td>-0.050866</td>\n",
       "      <td>-0.008557</td>\n",
       "      <td>-0.022558</td>\n",
       "      <td>NaN</td>\n",
       "      <td>-0.027241</td>\n",
       "      <td>-0.038120</td>\n",
       "      <td>...</td>\n",
       "      <td>NaN</td>\n",
       "      <td>NaN</td>\n",
       "      <td>NaN</td>\n",
       "      <td>NaN</td>\n",
       "      <td>-0.053068</td>\n",
       "      <td>NaN</td>\n",
       "      <td>NaN</td>\n",
       "      <td>-0.028847</td>\n",
       "      <td>-0.066699</td>\n",
       "      <td>NaN</td>\n",
       "    </tr>\n",
       "    <tr>\n",
       "      <th>2020-01-04 00:00:00.000</th>\n",
       "      <td>0.047189</td>\n",
       "      <td>0.051075</td>\n",
       "      <td>0.025629</td>\n",
       "      <td>NaN</td>\n",
       "      <td>0.044810</td>\n",
       "      <td>0.019956</td>\n",
       "      <td>0.040541</td>\n",
       "      <td>NaN</td>\n",
       "      <td>0.040143</td>\n",
       "      <td>0.037832</td>\n",
       "      <td>...</td>\n",
       "      <td>NaN</td>\n",
       "      <td>NaN</td>\n",
       "      <td>NaN</td>\n",
       "      <td>NaN</td>\n",
       "      <td>0.059354</td>\n",
       "      <td>NaN</td>\n",
       "      <td>NaN</td>\n",
       "      <td>0.027087</td>\n",
       "      <td>0.030955</td>\n",
       "      <td>NaN</td>\n",
       "    </tr>\n",
       "    <tr>\n",
       "      <th>2020-01-05 00:00:00.000</th>\n",
       "      <td>0.006966</td>\n",
       "      <td>0.003242</td>\n",
       "      <td>0.002662</td>\n",
       "      <td>NaN</td>\n",
       "      <td>0.013965</td>\n",
       "      <td>0.066308</td>\n",
       "      <td>0.009696</td>\n",
       "      <td>NaN</td>\n",
       "      <td>0.004981</td>\n",
       "      <td>0.013014</td>\n",
       "      <td>...</td>\n",
       "      <td>NaN</td>\n",
       "      <td>NaN</td>\n",
       "      <td>NaN</td>\n",
       "      <td>NaN</td>\n",
       "      <td>0.033460</td>\n",
       "      <td>NaN</td>\n",
       "      <td>NaN</td>\n",
       "      <td>0.003148</td>\n",
       "      <td>0.006017</td>\n",
       "      <td>NaN</td>\n",
       "    </tr>\n",
       "    <tr>\n",
       "      <th>2020-01-06 00:00:00.000</th>\n",
       "      <td>-0.000191</td>\n",
       "      <td>0.006456</td>\n",
       "      <td>0.005193</td>\n",
       "      <td>NaN</td>\n",
       "      <td>0.015236</td>\n",
       "      <td>-0.055854</td>\n",
       "      <td>0.003744</td>\n",
       "      <td>NaN</td>\n",
       "      <td>0.005511</td>\n",
       "      <td>-0.017516</td>\n",
       "      <td>...</td>\n",
       "      <td>NaN</td>\n",
       "      <td>NaN</td>\n",
       "      <td>NaN</td>\n",
       "      <td>NaN</td>\n",
       "      <td>-0.048730</td>\n",
       "      <td>NaN</td>\n",
       "      <td>NaN</td>\n",
       "      <td>0.085908</td>\n",
       "      <td>-0.012779</td>\n",
       "      <td>NaN</td>\n",
       "    </tr>\n",
       "  </tbody>\n",
       "</table>\n",
       "<p>5 rows × 49 columns</p>\n",
       "</div>"
      ],
      "text/plain": [
       "                          bitcoin  ethereum    ripple  solana  binancecoin  \\\n",
       "timestamp                                                                    \n",
       "2020-01-02 00:00:00.000       NaN       NaN       NaN     NaN          NaN   \n",
       "2020-01-03 00:00:00.000 -0.032480 -0.026712 -0.026961     NaN    -0.050866   \n",
       "2020-01-04 00:00:00.000  0.047189  0.051075  0.025629     NaN     0.044810   \n",
       "2020-01-05 00:00:00.000  0.006966  0.003242  0.002662     NaN     0.013965   \n",
       "2020-01-06 00:00:00.000 -0.000191  0.006456  0.005193     NaN     0.015236   \n",
       "\n",
       "                         dogecoin   cardano  staked-ether      tron  \\\n",
       "timestamp                                                             \n",
       "2020-01-02 00:00:00.000       NaN       NaN           NaN       NaN   \n",
       "2020-01-03 00:00:00.000 -0.008557 -0.022558           NaN -0.027241   \n",
       "2020-01-04 00:00:00.000  0.019956  0.040541           NaN  0.040143   \n",
       "2020-01-05 00:00:00.000  0.066308  0.009696           NaN  0.004981   \n",
       "2020-01-06 00:00:00.000 -0.055854  0.003744           NaN  0.005511   \n",
       "\n",
       "                         chainlink  ...  render-token  bittensor  kaspa  \\\n",
       "timestamp                           ...                                   \n",
       "2020-01-02 00:00:00.000        NaN  ...           NaN        NaN    NaN   \n",
       "2020-01-03 00:00:00.000  -0.038120  ...           NaN        NaN    NaN   \n",
       "2020-01-04 00:00:00.000   0.037832  ...           NaN        NaN    NaN   \n",
       "2020-01-05 00:00:00.000   0.013014  ...           NaN        NaN    NaN   \n",
       "2020-01-06 00:00:00.000  -0.017516  ...           NaN        NaN    NaN   \n",
       "\n",
       "                         filecoin  fetch-ai  arbitrum  virtual-protocol  \\\n",
       "timestamp                                                                 \n",
       "2020-01-02 00:00:00.000       NaN       NaN       NaN               NaN   \n",
       "2020-01-03 00:00:00.000       NaN -0.053068       NaN               NaN   \n",
       "2020-01-04 00:00:00.000       NaN  0.059354       NaN               NaN   \n",
       "2020-01-05 00:00:00.000       NaN  0.033460       NaN               NaN   \n",
       "2020-01-06 00:00:00.000       NaN -0.048730       NaN               NaN   \n",
       "\n",
       "                         gatechain-token    cosmos  ethena  \n",
       "timestamp                                                   \n",
       "2020-01-02 00:00:00.000              NaN       NaN     NaN  \n",
       "2020-01-03 00:00:00.000        -0.028847 -0.066699     NaN  \n",
       "2020-01-04 00:00:00.000         0.027087  0.030955     NaN  \n",
       "2020-01-05 00:00:00.000         0.003148  0.006017     NaN  \n",
       "2020-01-06 00:00:00.000         0.085908 -0.012779     NaN  \n",
       "\n",
       "[5 rows x 49 columns]"
      ]
     },
     "execution_count": 4,
     "metadata": {},
     "output_type": "execute_result"
    }
   ],
   "source": [
    "# set timestamp column as the index\n",
    "df.set_index(\"timestamp\", inplace=True)\n",
    "\n",
    "# compute daily log returns from daily price data\n",
    "log_returns = np.log(df / df.shift(1))\n",
    "log_returns.head()"
   ]
  },
  {
   "cell_type": "markdown",
   "metadata": {},
   "source": [
    "### Checking for seasonality effects according to days of the week - across all coins"
   ]
  },
  {
   "cell_type": "code",
   "execution_count": 5,
   "metadata": {},
   "outputs": [
    {
     "data": {
      "text/plain": [
       "timestamp\n",
       "2020-01-02 00:00:00.000     Thursday\n",
       "2020-01-03 00:00:00.000       Friday\n",
       "2020-01-04 00:00:00.000     Saturday\n",
       "2020-01-05 00:00:00.000       Sunday\n",
       "2020-01-06 00:00:00.000       Monday\n",
       "                             ...    \n",
       "2024-12-28 00:00:00.000     Saturday\n",
       "2024-12-29 00:00:00.000       Sunday\n",
       "2024-12-30 00:00:00.000       Monday\n",
       "2024-12-31 00:00:00.000      Tuesday\n",
       "2025-01-01 00:00:00.000    Wednesday\n",
       "Name: day_of_week, Length: 1828, dtype: object"
      ]
     },
     "execution_count": 5,
     "metadata": {},
     "output_type": "execute_result"
    }
   ],
   "source": [
    "# add day of the week column\n",
    "log_returns[\"day_of_week\"] = pd.to_datetime(log_returns.index).day_name()\n",
    "log_returns[\"day_of_week\"]"
   ]
  },
  {
   "cell_type": "code",
   "execution_count": 6,
   "metadata": {},
   "outputs": [
    {
     "data": {
      "text/plain": [
       "timestamp\n",
       "2020-01-02 00:00:00.000         NaN\n",
       "2020-01-03 00:00:00.000   -0.032993\n",
       "2020-01-04 00:00:00.000    0.048107\n",
       "2020-01-05 00:00:00.000    0.016507\n",
       "2020-01-06 00:00:00.000    0.003813\n",
       "                             ...   \n",
       "2024-12-28 00:00:00.000    0.003547\n",
       "2024-12-29 00:00:00.000    0.025823\n",
       "2024-12-30 00:00:00.000   -0.037002\n",
       "2024-12-31 00:00:00.000   -0.007394\n",
       "2025-01-01 00:00:00.000   -0.002590\n",
       "Name: aggregate, Length: 1828, dtype: float64"
      ]
     },
     "execution_count": 6,
     "metadata": {},
     "output_type": "execute_result"
    }
   ],
   "source": [
    "# compute an aggregate (mean) return across all coins on each day\n",
    "log_returns[\"aggregate\"] = log_returns.iloc[:, :-1].mean(axis=1)\n",
    "log_returns[\"aggregate\"]"
   ]
  },
  {
   "cell_type": "code",
   "execution_count": 7,
   "metadata": {},
   "outputs": [
    {
     "data": {
      "text/html": [
       "<div>\n",
       "<style scoped>\n",
       "    .dataframe tbody tr th:only-of-type {\n",
       "        vertical-align: middle;\n",
       "    }\n",
       "\n",
       "    .dataframe tbody tr th {\n",
       "        vertical-align: top;\n",
       "    }\n",
       "\n",
       "    .dataframe thead th {\n",
       "        text-align: right;\n",
       "    }\n",
       "</style>\n",
       "<table border=\"1\" class=\"dataframe\">\n",
       "  <thead>\n",
       "    <tr style=\"text-align: right;\">\n",
       "      <th></th>\n",
       "      <th>aggregate</th>\n",
       "      <th>day_of_week</th>\n",
       "    </tr>\n",
       "    <tr>\n",
       "      <th>timestamp</th>\n",
       "      <th></th>\n",
       "      <th></th>\n",
       "    </tr>\n",
       "  </thead>\n",
       "  <tbody>\n",
       "    <tr>\n",
       "      <th>2020-01-02 00:00:00.000</th>\n",
       "      <td>NaN</td>\n",
       "      <td>Thursday</td>\n",
       "    </tr>\n",
       "    <tr>\n",
       "      <th>2020-01-03 00:00:00.000</th>\n",
       "      <td>-0.032993</td>\n",
       "      <td>Friday</td>\n",
       "    </tr>\n",
       "    <tr>\n",
       "      <th>2020-01-04 00:00:00.000</th>\n",
       "      <td>0.048107</td>\n",
       "      <td>Saturday</td>\n",
       "    </tr>\n",
       "    <tr>\n",
       "      <th>2020-01-05 00:00:00.000</th>\n",
       "      <td>0.016507</td>\n",
       "      <td>Sunday</td>\n",
       "    </tr>\n",
       "    <tr>\n",
       "      <th>2020-01-06 00:00:00.000</th>\n",
       "      <td>0.003813</td>\n",
       "      <td>Monday</td>\n",
       "    </tr>\n",
       "  </tbody>\n",
       "</table>\n",
       "</div>"
      ],
      "text/plain": [
       "                         aggregate day_of_week\n",
       "timestamp                                     \n",
       "2020-01-02 00:00:00.000        NaN    Thursday\n",
       "2020-01-03 00:00:00.000  -0.032993      Friday\n",
       "2020-01-04 00:00:00.000   0.048107    Saturday\n",
       "2020-01-05 00:00:00.000   0.016507      Sunday\n",
       "2020-01-06 00:00:00.000   0.003813      Monday"
      ]
     },
     "execution_count": 7,
     "metadata": {},
     "output_type": "execute_result"
    }
   ],
   "source": [
    "# create dataframe of just the returns of the aggregate and day of the week\n",
    "aggregate = log_returns[[\"aggregate\", \"day_of_week\"]]\n",
    "aggregate.head()"
   ]
  },
  {
   "cell_type": "code",
   "execution_count": 8,
   "metadata": {},
   "outputs": [
    {
     "data": {
      "text/html": [
       "<div>\n",
       "<style scoped>\n",
       "    .dataframe tbody tr th:only-of-type {\n",
       "        vertical-align: middle;\n",
       "    }\n",
       "\n",
       "    .dataframe tbody tr th {\n",
       "        vertical-align: top;\n",
       "    }\n",
       "\n",
       "    .dataframe thead th {\n",
       "        text-align: right;\n",
       "    }\n",
       "</style>\n",
       "<table border=\"1\" class=\"dataframe\">\n",
       "  <thead>\n",
       "    <tr style=\"text-align: right;\">\n",
       "      <th></th>\n",
       "      <th>aggregate</th>\n",
       "    </tr>\n",
       "    <tr>\n",
       "      <th>day_of_week</th>\n",
       "      <th></th>\n",
       "    </tr>\n",
       "  </thead>\n",
       "  <tbody>\n",
       "    <tr>\n",
       "      <th>Monday</th>\n",
       "      <td>0.000583</td>\n",
       "    </tr>\n",
       "    <tr>\n",
       "      <th>Tuesday</th>\n",
       "      <td>0.000392</td>\n",
       "    </tr>\n",
       "    <tr>\n",
       "      <th>Wednesday</th>\n",
       "      <td>0.000166</td>\n",
       "    </tr>\n",
       "    <tr>\n",
       "      <th>Thursday</th>\n",
       "      <td>0.000910</td>\n",
       "    </tr>\n",
       "    <tr>\n",
       "      <th>Friday</th>\n",
       "      <td>-0.001177</td>\n",
       "    </tr>\n",
       "    <tr>\n",
       "      <th>Saturday</th>\n",
       "      <td>0.003907</td>\n",
       "    </tr>\n",
       "    <tr>\n",
       "      <th>Sunday</th>\n",
       "      <td>0.004421</td>\n",
       "    </tr>\n",
       "  </tbody>\n",
       "</table>\n",
       "</div>"
      ],
      "text/plain": [
       "             aggregate\n",
       "day_of_week           \n",
       "Monday        0.000583\n",
       "Tuesday       0.000392\n",
       "Wednesday     0.000166\n",
       "Thursday      0.000910\n",
       "Friday       -0.001177\n",
       "Saturday      0.003907\n",
       "Sunday        0.004421"
      ]
     },
     "execution_count": 8,
     "metadata": {},
     "output_type": "execute_result"
    }
   ],
   "source": [
    "# compute the mean of the aggregate's log returns, grouped by day of the week\n",
    "mean_by_day_of_week = aggregate.groupby(\"day_of_week\").mean()\n",
    "mean_by_day_of_week = mean_by_day_of_week.reindex(\n",
    "    [\"Monday\", \"Tuesday\", \"Wednesday\", \"Thursday\", \"Friday\", \"Saturday\", \"Sunday\"]\n",
    ")\n",
    "mean_by_day_of_week"
   ]
  },
  {
   "cell_type": "markdown",
   "metadata": {},
   "source": [
    "Visualization (first step in rejecting idea, want simplest test for rejecting idea, to prevent going down a rabbit hole of wasting time)"
   ]
  },
  {
   "cell_type": "code",
   "execution_count": 9,
   "metadata": {},
   "outputs": [],
   "source": [
    "import matplotlib.pyplot as plt"
   ]
  },
  {
   "cell_type": "code",
   "execution_count": 21,
   "metadata": {},
   "outputs": [
    {
     "data": {
      "text/plain": [
       "Text(0, 0.5, 'Mean Log Return')"
      ]
     },
     "execution_count": 21,
     "metadata": {},
     "output_type": "execute_result"
    },
    {
     "data": {
      "image/png": "[encoded data removed]",
      "text/plain": [
       "<Figure size 640x480 with 1 Axes>"
      ]
     },
     "metadata": {},
     "output_type": "display_data"
    }
   ],
   "source": [
    "# plot mean of aggregate returns, grouped by day of the week\n",
    "mean_by_day_of_week.plot(kind=\"bar\")\n",
    "plt.xlabel(\"Day of the Week\")\n",
    "plt.ylabel(\"Mean Log Return\")"
   ]
  },
  {
   "cell_type": "code",
   "execution_count": 15,
   "metadata": {},
   "outputs": [
    {
     "data": {
      "text/html": [
       "<div>\n",
       "<style scoped>\n",
       "    .dataframe tbody tr th:only-of-type {\n",
       "        vertical-align: middle;\n",
       "    }\n",
       "\n",
       "    .dataframe tbody tr th {\n",
       "        vertical-align: top;\n",
       "    }\n",
       "\n",
       "    .dataframe thead th {\n",
       "        text-align: right;\n",
       "    }\n",
       "</style>\n",
       "<table border=\"1\" class=\"dataframe\">\n",
       "  <thead>\n",
       "    <tr style=\"text-align: right;\">\n",
       "      <th></th>\n",
       "      <th>aggregate</th>\n",
       "    </tr>\n",
       "    <tr>\n",
       "      <th>day_of_week</th>\n",
       "      <th></th>\n",
       "    </tr>\n",
       "  </thead>\n",
       "  <tbody>\n",
       "    <tr>\n",
       "      <th>Monday</th>\n",
       "      <td>0.003449</td>\n",
       "    </tr>\n",
       "    <tr>\n",
       "      <th>Tuesday</th>\n",
       "      <td>0.000796</td>\n",
       "    </tr>\n",
       "    <tr>\n",
       "      <th>Wednesday</th>\n",
       "      <td>0.002784</td>\n",
       "    </tr>\n",
       "    <tr>\n",
       "      <th>Thursday</th>\n",
       "      <td>0.004410</td>\n",
       "    </tr>\n",
       "    <tr>\n",
       "      <th>Friday</th>\n",
       "      <td>0.000748</td>\n",
       "    </tr>\n",
       "    <tr>\n",
       "      <th>Saturday</th>\n",
       "      <td>0.006351</td>\n",
       "    </tr>\n",
       "    <tr>\n",
       "      <th>Sunday</th>\n",
       "      <td>0.005525</td>\n",
       "    </tr>\n",
       "  </tbody>\n",
       "</table>\n",
       "</div>"
      ],
      "text/plain": [
       "             aggregate\n",
       "day_of_week           \n",
       "Monday        0.003449\n",
       "Tuesday       0.000796\n",
       "Wednesday     0.002784\n",
       "Thursday      0.004410\n",
       "Friday        0.000748\n",
       "Saturday      0.006351\n",
       "Sunday        0.005525"
      ]
     },
     "execution_count": 15,
     "metadata": {},
     "output_type": "execute_result"
    }
   ],
   "source": [
    "# compute median of the aggregate returns, grouped by day of the week\n",
    "median_by_day_of_week = aggregate.groupby(\"day_of_week\").median()\n",
    "median_by_day_of_week = median_by_day_of_week.reindex(\n",
    "    [\"Monday\", \"Tuesday\", \"Wednesday\", \"Thursday\", \"Friday\", \"Saturday\", \"Sunday\"]\n",
    ")\n",
    "median_by_day_of_week"
   ]
  },
  {
   "cell_type": "markdown",
   "metadata": {},
   "source": [
    "Seems to be a slight weekend effect, but use the median to make sure it wasn't just dominated by outliers"
   ]
  },
  {
   "cell_type": "code",
   "execution_count": 22,
   "metadata": {},
   "outputs": [
    {
     "data": {
      "text/plain": [
       "Text(0, 0.5, 'Median Log Return')"
      ]
     },
     "execution_count": 22,
     "metadata": {},
     "output_type": "execute_result"
    },
    {
     "data": {
      "image/png": "[encoded data removed]",
      "text/plain": [
       "<Figure size 640x480 with 1 Axes>"
      ]
     },
     "metadata": {},
     "output_type": "display_data"
    }
   ],
   "source": [
    "# plot median of aggregate returns, grouped by day of the week - maybe mean was dominated by outliers\n",
    "median_by_day_of_week.plot(kind=\"bar\")\n",
    "plt.xlabel(\"Day of the Week\")\n",
    "plt.ylabel(\"Median Log Return\")"
   ]
  },
  {
   "cell_type": "markdown",
   "metadata": {},
   "source": [
    "There does seem to be an effect, although it looks way less significant with the median returns. However, an effect is still visible.\n",
    "\n",
    "We fail to reject the idea so far."
   ]
  },
  {
   "cell_type": "markdown",
   "metadata": {},
   "source": [
    "Persistence through time (do we this effect consistently throughout time?) (less likely to be due to randomness) ... (and relevant for practical purposes)"
   ]
  },
  {
   "cell_type": "code",
   "execution_count": 17,
   "metadata": {},
   "outputs": [
    {
     "name": "stderr",
     "output_type": "stream",
     "text": [
      "C:\\Users\\steph\\AppData\\Local\\Temp\\ipykernel_16852\\661096314.py:4: SettingWithCopyWarning: \n",
      "A value is trying to be set on a copy of a slice from a DataFrame.\n",
      "Try using .loc[row_indexer,col_indexer] = value instead\n",
      "\n",
      "See the caveats in the documentation: https://pandas.pydata.org/pandas-docs/stable/user_guide/indexing.html#returning-a-view-versus-a-copy\n",
      "  aggregate[\"week\"] = pd.to_datetime(aggregate.index).to_period('W')\n"
     ]
    },
    {
     "data": {
      "text/html": [
       "<div>\n",
       "<style scoped>\n",
       "    .dataframe tbody tr th:only-of-type {\n",
       "        vertical-align: middle;\n",
       "    }\n",
       "\n",
       "    .dataframe tbody tr th {\n",
       "        vertical-align: top;\n",
       "    }\n",
       "\n",
       "    .dataframe thead th {\n",
       "        text-align: right;\n",
       "    }\n",
       "</style>\n",
       "<table border=\"1\" class=\"dataframe\">\n",
       "  <thead>\n",
       "    <tr style=\"text-align: right;\">\n",
       "      <th></th>\n",
       "      <th>week</th>\n",
       "      <th>weekly_metric</th>\n",
       "    </tr>\n",
       "  </thead>\n",
       "  <tbody>\n",
       "    <tr>\n",
       "      <th>0</th>\n",
       "      <td>2019-12-30/2020-01-05</td>\n",
       "      <td>0.097608</td>\n",
       "    </tr>\n",
       "    <tr>\n",
       "      <th>1</th>\n",
       "      <td>2020-01-06/2020-01-12</td>\n",
       "      <td>-0.008417</td>\n",
       "    </tr>\n",
       "    <tr>\n",
       "      <th>2</th>\n",
       "      <td>2020-01-13/2020-01-19</td>\n",
       "      <td>-0.074426</td>\n",
       "    </tr>\n",
       "    <tr>\n",
       "      <th>3</th>\n",
       "      <td>2020-01-20/2020-01-26</td>\n",
       "      <td>0.065806</td>\n",
       "    </tr>\n",
       "    <tr>\n",
       "      <th>4</th>\n",
       "      <td>2020-01-27/2020-02-02</td>\n",
       "      <td>-0.124409</td>\n",
       "    </tr>\n",
       "  </tbody>\n",
       "</table>\n",
       "</div>"
      ],
      "text/plain": [
       "                    week  weekly_metric\n",
       "0  2019-12-30/2020-01-05       0.097608\n",
       "1  2020-01-06/2020-01-12      -0.008417\n",
       "2  2020-01-13/2020-01-19      -0.074426\n",
       "3  2020-01-20/2020-01-26       0.065806\n",
       "4  2020-01-27/2020-02-02      -0.124409"
      ]
     },
     "execution_count": 17,
     "metadata": {},
     "output_type": "execute_result"
    }
   ],
   "source": [
    "# plot a single metric (weekend returns - weekday returns) throughout time\n",
    "\n",
    "# create a column for the week associated with each date\n",
    "aggregate[\"week\"] = pd.to_datetime(aggregate.index).to_period('W')\n",
    "\n",
    "weekly_metrics = []\n",
    "\n",
    "# group by week and compute the metric for each week\n",
    "for week, group in aggregate.groupby(\"week\"):\n",
    "    weekend_returns = group[group[\"day_of_week\"].isin([\"Saturday\", \"Sunday\"])][\"aggregate\"].sum()\n",
    "    weekday_returns = group[~group[\"day_of_week\"].isin([\"Saturday\", \"Sunday\"])][\"aggregate\"].sum()\n",
    "\n",
    "    weekly_metric = weekend_returns - weekday_returns\n",
    "\n",
    "    weekly_metrics.append({\"week\": week, \"weekly_metric\": weekly_metric})\n",
    "\n",
    "# create dataframe out of weekly metrics\n",
    "weekly_df = pd.DataFrame(weekly_metrics)\n",
    "weekly_df.head()"
   ]
  },
  {
   "cell_type": "code",
   "execution_count": 23,
   "metadata": {},
   "outputs": [
    {
     "data": {
      "text/plain": [
       "Text(0, 0.5, 'Weekly Metric (Log Return)')"
      ]
     },
     "execution_count": 23,
     "metadata": {},
     "output_type": "execute_result"
    },
    {
     "data": {
      "image/png": "[encoded data removed]",
      "text/plain": [
       "<Figure size 640x480 with 1 Axes>"
      ]
     },
     "metadata": {},
     "output_type": "display_data"
    }
   ],
   "source": [
    "# plot the weekly metric throughout time\n",
    "year_index = weekly_df[weekly_df[\"week\"].dt.week == 1].index\n",
    "year_labels = weekly_df.loc[year_index][\"week\"].dt.year\n",
    "\n",
    "weekly_df.plot(kind=\"bar\")\n",
    "plt.xticks(year_index, year_labels);\n",
    "plt.xlabel(\"Year\")\n",
    "plt.ylabel(\"Weekly Metric (Log Return)\")"
   ]
  },
  {
   "cell_type": "code",
   "execution_count": null,
   "metadata": {},
   "outputs": [
    {
     "name": "stderr",
     "output_type": "stream",
     "text": [
      "C:\\Users\\steph\\AppData\\Local\\Temp\\ipykernel_13104\\1547937911.py:4: SettingWithCopyWarning: \n",
      "A value is trying to be set on a copy of a slice from a DataFrame.\n",
      "Try using .loc[row_indexer,col_indexer] = value instead\n",
      "\n",
      "See the caveats in the documentation: https://pandas.pydata.org/pandas-docs/stable/user_guide/indexing.html#returning-a-view-versus-a-copy\n",
      "  aggregate[\"month\"] = pd.to_datetime(aggregate.index).to_period('M')\n"
     ]
    },
    {
     "data": {
      "text/html": [
       "<div>\n",
       "<style scoped>\n",
       "    .dataframe tbody tr th:only-of-type {\n",
       "        vertical-align: middle;\n",
       "    }\n",
       "\n",
       "    .dataframe tbody tr th {\n",
       "        vertical-align: top;\n",
       "    }\n",
       "\n",
       "    .dataframe thead th {\n",
       "        text-align: right;\n",
       "    }\n",
       "</style>\n",
       "<table border=\"1\" class=\"dataframe\">\n",
       "  <thead>\n",
       "    <tr style=\"text-align: right;\">\n",
       "      <th></th>\n",
       "      <th>month</th>\n",
       "      <th>monthly_metric</th>\n",
       "    </tr>\n",
       "  </thead>\n",
       "  <tbody>\n",
       "    <tr>\n",
       "      <th>0</th>\n",
       "      <td>2020-01</td>\n",
       "      <td>0.408522</td>\n",
       "    </tr>\n",
       "    <tr>\n",
       "      <th>1</th>\n",
       "      <td>2020-02</td>\n",
       "      <td>-0.155390</td>\n",
       "    </tr>\n",
       "    <tr>\n",
       "      <th>2</th>\n",
       "      <td>2020-03</td>\n",
       "      <td>0.738389</td>\n",
       "    </tr>\n",
       "    <tr>\n",
       "      <th>3</th>\n",
       "      <td>2020-04</td>\n",
       "      <td>0.107990</td>\n",
       "    </tr>\n",
       "    <tr>\n",
       "      <th>4</th>\n",
       "      <td>2020-05</td>\n",
       "      <td>0.344544</td>\n",
       "    </tr>\n",
       "  </tbody>\n",
       "</table>\n",
       "</div>"
      ],
      "text/plain": [
       "     month  monthly_metric\n",
       "0  2020-01        0.408522\n",
       "1  2020-02       -0.155390\n",
       "2  2020-03        0.738389\n",
       "3  2020-04        0.107990\n",
       "4  2020-05        0.344544"
      ]
     },
     "execution_count": 44,
     "metadata": {},
     "output_type": "execute_result"
    }
   ],
   "source": [
    "# same weekly metric - just plotted as a monthly figure\n",
    "\n",
    "# create a column of the month associated with each date\n",
    "aggregate[\"month\"] = pd.to_datetime(aggregate.index).to_period('M')\n",
    "\n",
    "monthly_metrics = []\n",
    "\n",
    "day_list = [\"Tuesday\", \"Wednesday\", \"Thursday\", \"Saturday\", \"Sunday\"]\n",
    "\n",
    "# group by month and compute the metric for each month\n",
    "for month, group in aggregate.groupby(\"month\"):\n",
    "    days_of_interest = group[group[\"day_of_week\"].isin(day_list)][\"aggregate\"].sum()\n",
    "    non_days_of_interest = group[~group[\"day_of_week\"].isin(day_list)][\"aggregate\"].sum()\n",
    "\n",
    "    monthly_metric = days_of_interest - non_days_of_interest\n",
    "\n",
    "    monthly_metrics.append({\"month\": month, \"monthly_metric\": monthly_metric})\n",
    "\n",
    "# create dataframe out of monthly metrics\n",
    "monthly_df = pd.DataFrame(monthly_metrics)\n",
    "monthly_df.head()"
   ]
  },
  {
   "cell_type": "code",
   "execution_count": 28,
   "metadata": {},
   "outputs": [
    {
     "data": {
      "image/png": "[encoded data removed]",
      "text/plain": [
       "<Figure size 640x480 with 1 Axes>"
      ]
     },
     "metadata": {},
     "output_type": "display_data"
    }
   ],
   "source": [
    "# plot the weekly metric, on a monthly cumulative basis\n",
    "year_index = monthly_df[monthly_df[\"month\"].dt.month == 1].index\n",
    "year_labels = monthly_df.loc[year_index][\"month\"].dt.year\n",
    "\n",
    "monthly_df.plot(kind=\"bar\")\n",
    "plt.xticks(year_index, year_labels);"
   ]
  },
  {
   "cell_type": "code",
   "execution_count": 25,
   "metadata": {},
   "outputs": [
    {
     "data": {
      "text/plain": [
       "Text(0, 0.5, 'Cumulative Log Return')"
      ]
     },
     "execution_count": 25,
     "metadata": {},
     "output_type": "execute_result"
    },
    {
     "data": {
      "image/png": "[encoded data removed]",
      "text/plain": [
       "<Figure size 640x480 with 1 Axes>"
      ]
     },
     "metadata": {},
     "output_type": "display_data"
    }
   ],
   "source": [
    "# plot as the weekly metric cumulatively (like a backtest equity curve)\n",
    "weekly_df[\"cumulative_metric\"] = weekly_df[\"weekly_metric\"].cumsum()\n",
    "weekly_df[\"cumulative_metric\"].plot()\n",
    "\n",
    "year_index = weekly_df[weekly_df[\"week\"].dt.week == 1].index\n",
    "year_labels = weekly_df.loc[year_index][\"week\"].dt.year\n",
    "\n",
    "plt.xticks(year_index, year_labels);\n",
    "plt.xlabel(\"Year\")\n",
    "plt.ylabel(\"Cumulative Log Return\")"
   ]
  },
  {
   "cell_type": "markdown",
   "metadata": {},
   "source": [
    "Statistical Test of Validity (non-parametric)"
   ]
  },
  {
   "cell_type": "code",
   "execution_count": 33,
   "metadata": {},
   "outputs": [],
   "source": [
    "from scipy import stats"
   ]
  },
  {
   "cell_type": "code",
   "execution_count": 31,
   "metadata": {},
   "outputs": [
    {
     "data": {
      "text/plain": [
       "day_of_week\n",
       "Friday       [-0.032993221146206196, -0.0032071492310114303...\n",
       "Monday       [0.0038134182737941595, 0.014294895759980495, ...\n",
       "Saturday     [0.04810740406432166, 0.03346730108244188, 0.0...\n",
       "Sunday       [0.016507389704224693, -0.0001971490626745137,...\n",
       "Thursday     [-0.012677410963862618, 0.026665459849038592, ...\n",
       "Tuesday      [0.049570567842120626, -0.014844958145441147, ...\n",
       "Wednesday    [0.004188087005006681, 0.0924370919484626, 0.0...\n",
       "Name: aggregate, dtype: object"
      ]
     },
     "execution_count": 31,
     "metadata": {},
     "output_type": "execute_result"
    }
   ],
   "source": [
    "# drop any rows in NaN values\n",
    "clean_aggregate = aggregate.dropna()\n",
    "\n",
    "grouped_by_day = clean_aggregate.groupby(\"day_of_week\")[\"aggregate\"].apply(list)\n",
    "grouped_by_day"
   ]
  },
  {
   "cell_type": "code",
   "execution_count": 34,
   "metadata": {},
   "outputs": [
    {
     "data": {
      "text/plain": [
       "np.float64(0.2667186056412564)"
      ]
     },
     "execution_count": 34,
     "metadata": {},
     "output_type": "execute_result"
    }
   ],
   "source": [
    "# kruskal-willis test (generalization of ANOVA, non-parametric)\n",
    "kruskal = stats.kruskal(*grouped_by_day)\n",
    "kruskal.pvalue"
   ]
  },
  {
   "cell_type": "code",
   "execution_count": 59,
   "metadata": {},
   "outputs": [
    {
     "data": {
      "text/plain": [
       "np.float64(0.088)"
      ]
     },
     "execution_count": 59,
     "metadata": {},
     "output_type": "execute_result"
    }
   ],
   "source": [
    "# permutation test (simple, non-parametric)\n",
    "\n",
    "days_of_interest = [\"Saturday\", \"Sunday\"]\n",
    "\n",
    "# observed test statistic - difference in mean returns between days of interest and non-days of interest\n",
    "mean_days = mean_by_day_of_week.loc[days_of_interest].mean().item()\n",
    "mean_non_days = mean_by_day_of_week.loc[~mean_by_day_of_week.index.isin(days_of_interest)].mean().item()\n",
    "observed_stat = mean_days - mean_non_days\n",
    "\n",
    "# perform permutation test\n",
    "n_permutations = 1000\n",
    "test_stats = []\n",
    "\n",
    "for _ in range(n_permutations):\n",
    "    # shuffle day of the week\n",
    "    shuffled_day_of_week = aggregate[\"day_of_week\"].sample(frac=1, replace=True)\n",
    "    shuffled_day_of_week.index = aggregate.index\n",
    "    \n",
    "    # get mean of days of interest\n",
    "    mean_days = aggregate[shuffled_day_of_week.isin([\"Saturday\", \"Sunday\"])][\"aggregate\"].mean()\n",
    "\n",
    "    # get mean of non-days of interest\n",
    "    mean_non_days = aggregate[~shuffled_day_of_week.isin([\"Saturday\", \"Sunday\"])][\"aggregate\"].mean()\n",
    "\n",
    "    # compute test statistic\n",
    "    test_stat = mean_days - mean_non_days\n",
    "\n",
    "    # append to list\n",
    "    test_stats.append(test_stat)\n",
    "\n",
    "p_value = np.mean(np.abs(test_stats) >= np.abs(observed_stat))\n",
    "p_value"
   ]
  },
  {
   "cell_type": "markdown",
   "metadata": {},
   "source": [
    "## Bitcoin - most liquid, most participation (more efficient or more inefficient?)"
   ]
  },
  {
   "cell_type": "code",
   "execution_count": 26,
   "metadata": {},
   "outputs": [
    {
     "data": {
      "text/html": [
       "<div>\n",
       "<style scoped>\n",
       "    .dataframe tbody tr th:only-of-type {\n",
       "        vertical-align: middle;\n",
       "    }\n",
       "\n",
       "    .dataframe tbody tr th {\n",
       "        vertical-align: top;\n",
       "    }\n",
       "\n",
       "    .dataframe thead th {\n",
       "        text-align: right;\n",
       "    }\n",
       "</style>\n",
       "<table border=\"1\" class=\"dataframe\">\n",
       "  <thead>\n",
       "    <tr style=\"text-align: right;\">\n",
       "      <th></th>\n",
       "      <th>bitcoin</th>\n",
       "      <th>day_of_week</th>\n",
       "    </tr>\n",
       "    <tr>\n",
       "      <th>timestamp</th>\n",
       "      <th></th>\n",
       "      <th></th>\n",
       "    </tr>\n",
       "  </thead>\n",
       "  <tbody>\n",
       "    <tr>\n",
       "      <th>2020-01-02 00:00:00.000</th>\n",
       "      <td>NaN</td>\n",
       "      <td>Thursday</td>\n",
       "    </tr>\n",
       "    <tr>\n",
       "      <th>2020-01-03 00:00:00.000</th>\n",
       "      <td>-0.032480</td>\n",
       "      <td>Friday</td>\n",
       "    </tr>\n",
       "    <tr>\n",
       "      <th>2020-01-04 00:00:00.000</th>\n",
       "      <td>0.047189</td>\n",
       "      <td>Saturday</td>\n",
       "    </tr>\n",
       "    <tr>\n",
       "      <th>2020-01-05 00:00:00.000</th>\n",
       "      <td>0.006966</td>\n",
       "      <td>Sunday</td>\n",
       "    </tr>\n",
       "    <tr>\n",
       "      <th>2020-01-06 00:00:00.000</th>\n",
       "      <td>-0.000191</td>\n",
       "      <td>Monday</td>\n",
       "    </tr>\n",
       "    <tr>\n",
       "      <th>...</th>\n",
       "      <td>...</td>\n",
       "      <td>...</td>\n",
       "    </tr>\n",
       "    <tr>\n",
       "      <th>2024-12-28 00:00:00.000</th>\n",
       "      <td>-0.014172</td>\n",
       "      <td>Saturday</td>\n",
       "    </tr>\n",
       "    <tr>\n",
       "      <th>2024-12-29 00:00:00.000</th>\n",
       "      <td>0.008998</td>\n",
       "      <td>Sunday</td>\n",
       "    </tr>\n",
       "    <tr>\n",
       "      <th>2024-12-30 00:00:00.000</th>\n",
       "      <td>-0.016110</td>\n",
       "      <td>Monday</td>\n",
       "    </tr>\n",
       "    <tr>\n",
       "      <th>2024-12-31 00:00:00.000</th>\n",
       "      <td>-0.011124</td>\n",
       "      <td>Tuesday</td>\n",
       "    </tr>\n",
       "    <tr>\n",
       "      <th>2025-01-01 00:00:00.000</th>\n",
       "      <td>0.009462</td>\n",
       "      <td>Wednesday</td>\n",
       "    </tr>\n",
       "  </tbody>\n",
       "</table>\n",
       "<p>1828 rows × 2 columns</p>\n",
       "</div>"
      ],
      "text/plain": [
       "                          bitcoin day_of_week\n",
       "timestamp                                    \n",
       "2020-01-02 00:00:00.000       NaN    Thursday\n",
       "2020-01-03 00:00:00.000 -0.032480      Friday\n",
       "2020-01-04 00:00:00.000  0.047189    Saturday\n",
       "2020-01-05 00:00:00.000  0.006966      Sunday\n",
       "2020-01-06 00:00:00.000 -0.000191      Monday\n",
       "...                           ...         ...\n",
       "2024-12-28 00:00:00.000 -0.014172    Saturday\n",
       "2024-12-29 00:00:00.000  0.008998      Sunday\n",
       "2024-12-30 00:00:00.000 -0.016110      Monday\n",
       "2024-12-31 00:00:00.000 -0.011124     Tuesday\n",
       "2025-01-01 00:00:00.000  0.009462   Wednesday\n",
       "\n",
       "[1828 rows x 2 columns]"
      ]
     },
     "execution_count": 26,
     "metadata": {},
     "output_type": "execute_result"
    }
   ],
   "source": [
    "# create df of just bitcoin's log returns\n",
    "bitcoin = log_returns[[\"bitcoin\", \"day_of_week\"]]\n",
    "bitcoin"
   ]
  },
  {
   "cell_type": "code",
   "execution_count": 27,
   "metadata": {},
   "outputs": [
    {
     "data": {
      "text/html": [
       "<div>\n",
       "<style scoped>\n",
       "    .dataframe tbody tr th:only-of-type {\n",
       "        vertical-align: middle;\n",
       "    }\n",
       "\n",
       "    .dataframe tbody tr th {\n",
       "        vertical-align: top;\n",
       "    }\n",
       "\n",
       "    .dataframe thead th {\n",
       "        text-align: right;\n",
       "    }\n",
       "</style>\n",
       "<table border=\"1\" class=\"dataframe\">\n",
       "  <thead>\n",
       "    <tr style=\"text-align: right;\">\n",
       "      <th></th>\n",
       "      <th>bitcoin</th>\n",
       "    </tr>\n",
       "    <tr>\n",
       "      <th>day_of_week</th>\n",
       "      <th></th>\n",
       "    </tr>\n",
       "  </thead>\n",
       "  <tbody>\n",
       "    <tr>\n",
       "      <th>Monday</th>\n",
       "      <td>0.000476</td>\n",
       "    </tr>\n",
       "    <tr>\n",
       "      <th>Tuesday</th>\n",
       "      <td>0.003667</td>\n",
       "    </tr>\n",
       "    <tr>\n",
       "      <th>Wednesday</th>\n",
       "      <td>0.001278</td>\n",
       "    </tr>\n",
       "    <tr>\n",
       "      <th>Thursday</th>\n",
       "      <td>0.004467</td>\n",
       "    </tr>\n",
       "    <tr>\n",
       "      <th>Friday</th>\n",
       "      <td>-0.001874</td>\n",
       "    </tr>\n",
       "    <tr>\n",
       "      <th>Saturday</th>\n",
       "      <td>0.000953</td>\n",
       "    </tr>\n",
       "    <tr>\n",
       "      <th>Sunday</th>\n",
       "      <td>0.000937</td>\n",
       "    </tr>\n",
       "  </tbody>\n",
       "</table>\n",
       "</div>"
      ],
      "text/plain": [
       "              bitcoin\n",
       "day_of_week          \n",
       "Monday       0.000476\n",
       "Tuesday      0.003667\n",
       "Wednesday    0.001278\n",
       "Thursday     0.004467\n",
       "Friday      -0.001874\n",
       "Saturday     0.000953\n",
       "Sunday       0.000937"
      ]
     },
     "execution_count": 27,
     "metadata": {},
     "output_type": "execute_result"
    }
   ],
   "source": [
    "# compute the mean log returns, grouped by day of the week\n",
    "mean_by_day_of_week = bitcoin.groupby(\"day_of_week\").mean()\n",
    "mean_by_day_of_week = mean_by_day_of_week.reindex(\n",
    "    [\"Monday\", \"Tuesday\", \"Wednesday\", \"Thursday\", \"Friday\", \"Saturday\", \"Sunday\"]\n",
    ")\n",
    "mean_by_day_of_week"
   ]
  },
  {
   "cell_type": "code",
   "execution_count": 28,
   "metadata": {},
   "outputs": [
    {
     "data": {
      "text/plain": [
       "Text(0, 0.5, 'Mean Log Return')"
      ]
     },
     "execution_count": 28,
     "metadata": {},
     "output_type": "execute_result"
    },
    {
     "data": {
      "image/png": "[encoded data removed]",
      "text/plain": [
       "<Figure size 640x480 with 1 Axes>"
      ]
     },
     "metadata": {},
     "output_type": "display_data"
    }
   ],
   "source": [
    "# plot mean returns of bitcoin, grouped by day of the week\n",
    "mean_by_day_of_week.plot(kind=\"bar\")\n",
    "plt.xlabel(\"Day of the Week\")\n",
    "plt.ylabel(\"Mean Log Return\")"
   ]
  },
  {
   "cell_type": "code",
   "execution_count": 29,
   "metadata": {},
   "outputs": [
    {
     "data": {
      "text/html": [
       "<div>\n",
       "<style scoped>\n",
       "    .dataframe tbody tr th:only-of-type {\n",
       "        vertical-align: middle;\n",
       "    }\n",
       "\n",
       "    .dataframe tbody tr th {\n",
       "        vertical-align: top;\n",
       "    }\n",
       "\n",
       "    .dataframe thead th {\n",
       "        text-align: right;\n",
       "    }\n",
       "</style>\n",
       "<table border=\"1\" class=\"dataframe\">\n",
       "  <thead>\n",
       "    <tr style=\"text-align: right;\">\n",
       "      <th></th>\n",
       "      <th>bitcoin</th>\n",
       "    </tr>\n",
       "    <tr>\n",
       "      <th>day_of_week</th>\n",
       "      <th></th>\n",
       "    </tr>\n",
       "  </thead>\n",
       "  <tbody>\n",
       "    <tr>\n",
       "      <th>Monday</th>\n",
       "      <td>0.000285</td>\n",
       "    </tr>\n",
       "    <tr>\n",
       "      <th>Tuesday</th>\n",
       "      <td>0.001283</td>\n",
       "    </tr>\n",
       "    <tr>\n",
       "      <th>Wednesday</th>\n",
       "      <td>0.002293</td>\n",
       "    </tr>\n",
       "    <tr>\n",
       "      <th>Thursday</th>\n",
       "      <td>0.002154</td>\n",
       "    </tr>\n",
       "    <tr>\n",
       "      <th>Friday</th>\n",
       "      <td>-0.002330</td>\n",
       "    </tr>\n",
       "    <tr>\n",
       "      <th>Saturday</th>\n",
       "      <td>0.001071</td>\n",
       "    </tr>\n",
       "    <tr>\n",
       "      <th>Sunday</th>\n",
       "      <td>0.001425</td>\n",
       "    </tr>\n",
       "  </tbody>\n",
       "</table>\n",
       "</div>"
      ],
      "text/plain": [
       "              bitcoin\n",
       "day_of_week          \n",
       "Monday       0.000285\n",
       "Tuesday      0.001283\n",
       "Wednesday    0.002293\n",
       "Thursday     0.002154\n",
       "Friday      -0.002330\n",
       "Saturday     0.001071\n",
       "Sunday       0.001425"
      ]
     },
     "execution_count": 29,
     "metadata": {},
     "output_type": "execute_result"
    }
   ],
   "source": [
    "# compute median of log returns, grouped by day of the week\n",
    "median_by_day_of_week = bitcoin.groupby(\"day_of_week\").median()\n",
    "median_by_day_of_week = median_by_day_of_week.reindex(\n",
    "    [\"Monday\", \"Tuesday\", \"Wednesday\", \"Thursday\", \"Friday\", \"Saturday\", \"Sunday\"]\n",
    ")\n",
    "median_by_day_of_week"
   ]
  },
  {
   "cell_type": "code",
   "execution_count": 30,
   "metadata": {},
   "outputs": [
    {
     "data": {
      "text/plain": [
       "Text(0, 0.5, 'Median Log Return')"
      ]
     },
     "execution_count": 30,
     "metadata": {},
     "output_type": "execute_result"
    },
    {
     "data": {
      "image/png": "[encoded data removed]",
      "text/plain": [
       "<Figure size 640x480 with 1 Axes>"
      ]
     },
     "metadata": {},
     "output_type": "display_data"
    }
   ],
   "source": [
    "# plot median returns of bitcoin, grouped by day of the week\n",
    "median_by_day_of_week.plot(kind=\"bar\")\n",
    "plt.xlabel(\"Day of the Week\")\n",
    "plt.ylabel(\"Median Log Return\")"
   ]
  },
  {
   "cell_type": "markdown",
   "metadata": {},
   "source": [
    "Bitcoin - Check for consistency through time"
   ]
  },
  {
   "cell_type": "code",
   "execution_count": 31,
   "metadata": {},
   "outputs": [
    {
     "name": "stderr",
     "output_type": "stream",
     "text": [
      "C:\\Users\\steph\\AppData\\Local\\Temp\\ipykernel_16852\\3766383906.py:4: SettingWithCopyWarning: \n",
      "A value is trying to be set on a copy of a slice from a DataFrame.\n",
      "Try using .loc[row_indexer,col_indexer] = value instead\n",
      "\n",
      "See the caveats in the documentation: https://pandas.pydata.org/pandas-docs/stable/user_guide/indexing.html#returning-a-view-versus-a-copy\n",
      "  bitcoin[\"week\"] = pd.to_datetime(bitcoin.index).to_period('W')\n"
     ]
    },
    {
     "data": {
      "text/html": [
       "<div>\n",
       "<style scoped>\n",
       "    .dataframe tbody tr th:only-of-type {\n",
       "        vertical-align: middle;\n",
       "    }\n",
       "\n",
       "    .dataframe tbody tr th {\n",
       "        vertical-align: top;\n",
       "    }\n",
       "\n",
       "    .dataframe thead th {\n",
       "        text-align: right;\n",
       "    }\n",
       "</style>\n",
       "<table border=\"1\" class=\"dataframe\">\n",
       "  <thead>\n",
       "    <tr style=\"text-align: right;\">\n",
       "      <th></th>\n",
       "      <th>week</th>\n",
       "      <th>weekly_metric</th>\n",
       "    </tr>\n",
       "  </thead>\n",
       "  <tbody>\n",
       "    <tr>\n",
       "      <th>0</th>\n",
       "      <td>2019-12-30/2020-01-05</td>\n",
       "      <td>0.086635</td>\n",
       "    </tr>\n",
       "    <tr>\n",
       "      <th>1</th>\n",
       "      <td>2020-01-06/2020-01-12</td>\n",
       "      <td>0.140104</td>\n",
       "    </tr>\n",
       "    <tr>\n",
       "      <th>2</th>\n",
       "      <td>2020-01-13/2020-01-19</td>\n",
       "      <td>0.089284</td>\n",
       "    </tr>\n",
       "    <tr>\n",
       "      <th>3</th>\n",
       "      <td>2020-01-20/2020-01-26</td>\n",
       "      <td>0.042921</td>\n",
       "    </tr>\n",
       "    <tr>\n",
       "      <th>4</th>\n",
       "      <td>2020-01-27/2020-02-02</td>\n",
       "      <td>0.006767</td>\n",
       "    </tr>\n",
       "  </tbody>\n",
       "</table>\n",
       "</div>"
      ],
      "text/plain": [
       "                    week  weekly_metric\n",
       "0  2019-12-30/2020-01-05       0.086635\n",
       "1  2020-01-06/2020-01-12       0.140104\n",
       "2  2020-01-13/2020-01-19       0.089284\n",
       "3  2020-01-20/2020-01-26       0.042921\n",
       "4  2020-01-27/2020-02-02       0.006767"
      ]
     },
     "execution_count": 31,
     "metadata": {},
     "output_type": "execute_result"
    }
   ],
   "source": [
    "# plot a single metric (weekend returns - weekday returns) throughout time\n",
    "\n",
    "# create a column of week associated with each date\n",
    "bitcoin[\"week\"] = pd.to_datetime(bitcoin.index).to_period('W')\n",
    "\n",
    "weekly_metrics = []\n",
    "\n",
    "days_of_interest = [\"Tuesday\", \"Wednesday\", \"Thursday\", \"Saturday\", \"Sunday\"]\n",
    "\n",
    "# group by week and compute the metric for each week\n",
    "for week, group in bitcoin.groupby(\"week\"):\n",
    "    days_returns = group[group[\"day_of_week\"].isin(days_of_interest)][\"bitcoin\"].sum()\n",
    "    non_days_returns = group[~group[\"day_of_week\"].isin(days_of_interest)][\"bitcoin\"].sum()\n",
    "\n",
    "    weekly_metric = days_returns - non_days_returns\n",
    "\n",
    "    weekly_metrics.append({\"week\": week, \"weekly_metric\": weekly_metric})\n",
    "\n",
    "# create dataframe out of weekly metrics\n",
    "weekly_df = pd.DataFrame(weekly_metrics)\n",
    "weekly_df.head()"
   ]
  },
  {
   "cell_type": "code",
   "execution_count": 33,
   "metadata": {},
   "outputs": [
    {
     "data": {
      "text/plain": [
       "Text(0, 0.5, 'Weekly Metric (Log Return)')"
      ]
     },
     "execution_count": 33,
     "metadata": {},
     "output_type": "execute_result"
    },
    {
     "data": {
      "image/png": "[encoded data removed]",
      "text/plain": [
       "<Figure size 640x480 with 1 Axes>"
      ]
     },
     "metadata": {},
     "output_type": "display_data"
    }
   ],
   "source": [
    "# plot weekly metric\n",
    "year_index = weekly_df[weekly_df[\"week\"].dt.week == 1].index\n",
    "year_labels = weekly_df.loc[year_index][\"week\"].dt.year\n",
    "\n",
    "weekly_df.plot(kind=\"bar\")\n",
    "plt.xticks(year_index, year_labels);\n",
    "plt.xlabel(\"Year\")\n",
    "plt.ylabel(\"Weekly Metric (Log Return)\")"
   ]
  },
  {
   "cell_type": "code",
   "execution_count": 68,
   "metadata": {},
   "outputs": [
    {
     "name": "stderr",
     "output_type": "stream",
     "text": [
      "C:\\Users\\steph\\AppData\\Local\\Temp\\ipykernel_13104\\1898526470.py:4: SettingWithCopyWarning: \n",
      "A value is trying to be set on a copy of a slice from a DataFrame.\n",
      "Try using .loc[row_indexer,col_indexer] = value instead\n",
      "\n",
      "See the caveats in the documentation: https://pandas.pydata.org/pandas-docs/stable/user_guide/indexing.html#returning-a-view-versus-a-copy\n",
      "  bitcoin[\"month\"] = pd.to_datetime(bitcoin.index).to_period('M')\n"
     ]
    },
    {
     "data": {
      "text/html": [
       "<div>\n",
       "<style scoped>\n",
       "    .dataframe tbody tr th:only-of-type {\n",
       "        vertical-align: middle;\n",
       "    }\n",
       "\n",
       "    .dataframe tbody tr th {\n",
       "        vertical-align: top;\n",
       "    }\n",
       "\n",
       "    .dataframe thead th {\n",
       "        text-align: right;\n",
       "    }\n",
       "</style>\n",
       "<table border=\"1\" class=\"dataframe\">\n",
       "  <thead>\n",
       "    <tr style=\"text-align: right;\">\n",
       "      <th></th>\n",
       "      <th>month</th>\n",
       "      <th>monthly_metric</th>\n",
       "    </tr>\n",
       "  </thead>\n",
       "  <tbody>\n",
       "    <tr>\n",
       "      <th>0</th>\n",
       "      <td>2020-01</td>\n",
       "      <td>0.381245</td>\n",
       "    </tr>\n",
       "    <tr>\n",
       "      <th>1</th>\n",
       "      <td>2020-02</td>\n",
       "      <td>-0.205713</td>\n",
       "    </tr>\n",
       "    <tr>\n",
       "      <th>2</th>\n",
       "      <td>2020-03</td>\n",
       "      <td>0.537438</td>\n",
       "    </tr>\n",
       "    <tr>\n",
       "      <th>3</th>\n",
       "      <td>2020-04</td>\n",
       "      <td>0.078635</td>\n",
       "    </tr>\n",
       "    <tr>\n",
       "      <th>4</th>\n",
       "      <td>2020-05</td>\n",
       "      <td>0.105476</td>\n",
       "    </tr>\n",
       "  </tbody>\n",
       "</table>\n",
       "</div>"
      ],
      "text/plain": [
       "     month  monthly_metric\n",
       "0  2020-01        0.381245\n",
       "1  2020-02       -0.205713\n",
       "2  2020-03        0.537438\n",
       "3  2020-04        0.078635\n",
       "4  2020-05        0.105476"
      ]
     },
     "execution_count": 68,
     "metadata": {},
     "output_type": "execute_result"
    }
   ],
   "source": [
    "# same weekly metric - just plotted as a monthly figure\n",
    "\n",
    "# create a column of month associated with each date\n",
    "bitcoin[\"month\"] = pd.to_datetime(bitcoin.index).to_period('M')\n",
    "\n",
    "monthly_metrics = []\n",
    "\n",
    "days_of_interest = [\"Tuesday\", \"Wednesday\", \"Thursday\", \"Saturday\", \"Sunday\"]\n",
    "\n",
    "# group by month and compute the metric for each month\n",
    "for month, group in bitcoin.groupby(\"month\"):\n",
    "    days_returns = group[group[\"day_of_week\"].isin(day_list)][\"bitcoin\"].sum()\n",
    "    non_days_returns = group[~group[\"day_of_week\"].isin(day_list)][\"bitcoin\"].sum()\n",
    "\n",
    "    monthly_metric = days_returns - non_days_returns\n",
    "\n",
    "    monthly_metrics.append({\"month\": month, \"monthly_metric\": monthly_metric})\n",
    "\n",
    "# create dataframe out of weekly metrics\n",
    "monthly_df = pd.DataFrame(monthly_metrics)\n",
    "monthly_df.head()"
   ]
  },
  {
   "cell_type": "code",
   "execution_count": 69,
   "metadata": {},
   "outputs": [
    {
     "data": {
      "image/png": "[encoded data removed]",
      "text/plain": [
       "<Figure size 640x480 with 1 Axes>"
      ]
     },
     "metadata": {},
     "output_type": "display_data"
    }
   ],
   "source": [
    "# plotted monthly\n",
    "year_index = monthly_df[monthly_df[\"month\"].dt.month == 1].index\n",
    "year_labels = monthly_df.loc[year_index][\"month\"].dt.year\n",
    "\n",
    "monthly_df.plot(kind=\"bar\")\n",
    "plt.xticks(year_index, year_labels);"
   ]
  },
  {
   "cell_type": "code",
   "execution_count": 34,
   "metadata": {},
   "outputs": [
    {
     "data": {
      "text/plain": [
       "Text(0, 0.5, 'Cumulative Log Return')"
      ]
     },
     "execution_count": 34,
     "metadata": {},
     "output_type": "execute_result"
    },
    {
     "data": {
      "image/png": "[encoded data removed]",
      "text/plain": [
       "<Figure size 640x480 with 1 Axes>"
      ]
     },
     "metadata": {},
     "output_type": "display_data"
    }
   ],
   "source": [
    "# plot as the weekly metric cumulatively (like a backtest equity curve)\n",
    "weekly_cumulative = weekly_df[\"weekly_metric\"].cumsum()\n",
    "\n",
    "year_index = weekly_df[weekly_df[\"week\"].dt.week == 1].index\n",
    "year_labels = weekly_df.loc[year_index][\"week\"].dt.year\n",
    "\n",
    "weekly_cumulative.plot()\n",
    "plt.xticks(year_index, year_labels);\n",
    "plt.xlabel(\"Year\")\n",
    "plt.ylabel(\"Cumulative Log Return\")"
   ]
  },
  {
   "cell_type": "markdown",
   "metadata": {},
   "source": [
    "Statistical Test of Validity"
   ]
  },
  {
   "cell_type": "code",
   "execution_count": 45,
   "metadata": {},
   "outputs": [],
   "source": [
    "from scipy import stats"
   ]
  },
  {
   "cell_type": "code",
   "execution_count": 71,
   "metadata": {},
   "outputs": [
    {
     "data": {
      "text/plain": [
       "day_of_week\n",
       "Friday       [-0.032480278422501445, -0.026829375544213697,...\n",
       "Monday       [-0.00019111240628208223, 0.019689273465013486...\n",
       "Saturday     [0.04718890845290281, 0.043435394427536377, 0....\n",
       "Sunday       [0.00696577743916258, -0.02080375892868698, 0....\n",
       "Thursday     [-0.01255186373575921, 0.0021539125373604404, ...\n",
       "Tuesday      [0.05101699557818573, -0.007462635962854061, -...\n",
       "Wednesday    [0.05198719517381707, 0.08178657482126675, 0.0...\n",
       "Name: bitcoin, dtype: object"
      ]
     },
     "execution_count": 71,
     "metadata": {},
     "output_type": "execute_result"
    }
   ],
   "source": [
    "# remove na values\n",
    "clean_bitcoin = bitcoin.dropna()\n",
    "grouped_by_day = clean_bitcoin.groupby(\"day_of_week\")[\"bitcoin\"].apply(list)\n",
    "grouped_by_day"
   ]
  },
  {
   "cell_type": "code",
   "execution_count": 72,
   "metadata": {},
   "outputs": [
    {
     "data": {
      "text/plain": [
       "np.float64(0.6224125682401305)"
      ]
     },
     "execution_count": 72,
     "metadata": {},
     "output_type": "execute_result"
    }
   ],
   "source": [
    "# non-parametric test\n",
    "kruskal = stats.kruskal(*grouped_by_day)\n",
    "kruskal.pvalue"
   ]
  },
  {
   "cell_type": "code",
   "execution_count": 73,
   "metadata": {},
   "outputs": [
    {
     "data": {
      "text/plain": [
       "np.float64(0.091)"
      ]
     },
     "execution_count": 73,
     "metadata": {},
     "output_type": "execute_result"
    }
   ],
   "source": [
    "# permutation test - more robust, simple\n",
    "\n",
    "days_of_interest = [\"Tuesday\", \"Wednesday\", \"Thursday\", \"Saturday\", \"Sunday\"]\n",
    "\n",
    "# observed test statistic - difference in mean returns between days and non-days\n",
    "mean_days = mean_by_day_of_week.loc[days_of_interest].mean().item()\n",
    "mean_non_days = mean_by_day_of_week.loc[~mean_by_day_of_week.index.isin(days_of_interest)].mean().item()\n",
    "observed_stat = mean_days - mean_non_days\n",
    "\n",
    "# perform permutation test\n",
    "n_permutations = 1000\n",
    "test_stats = []\n",
    "\n",
    "for _ in range(n_permutations):\n",
    "    # shuffle day of the week\n",
    "    shuffled_day_of_week = clean_bitcoin[\"day_of_week\"].sample(frac=1, replace=True)\n",
    "\n",
    "    # set the index of the shuffled version to the original index\n",
    "    shuffled_day_of_week.index = clean_bitcoin.index\n",
    "    \n",
    "    # get mean of \n",
    "    mean_days = clean_bitcoin[shuffled_day_of_week.isin(days_of_interest)][\"bitcoin\"].mean()\n",
    "\n",
    "    # get mean of \n",
    "    mean_non_days = clean_bitcoin[~shuffled_day_of_week.isin(days_of_interest)][\"bitcoin\"].mean()\n",
    "\n",
    "    # compute test statistic\n",
    "    test_stat = mean_days - mean_non_days\n",
    "\n",
    "    # append to list\n",
    "    test_stats.append(test_stat)\n",
    "\n",
    "p_value = np.mean(np.abs(test_stats) >= np.abs(observed_stat))\n",
    "p_value"
   ]
  }
 ],
 "metadata": {
  "kernelspec": {
   "display_name": "Python 3",
   "language": "python",
   "name": "python3"
  },
  "language_info": {
   "codemirror_mode": {
    "name": "ipython",
    "version": 3
   },
   "file_extension": ".py",
   "mimetype": "text/x-python",
   "name": "python",
   "nbconvert_exporter": "python",
   "pygments_lexer": "ipython3",
   "version": "3.13.0"
  }
 },
 "nbformat": 4,
 "nbformat_minor": 2
}
